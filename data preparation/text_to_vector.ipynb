{
 "cells": [
  {
   "cell_type": "code",
   "execution_count": 10,
   "metadata": {},
   "outputs": [
    {
     "name": "stdout",
     "output_type": "stream",
     "text": [
      "{'it': 5, 'is': 3, 'piece': 9, 'of': 6, 'cake': 1, 'or': 7, 'easy': 2, 'as': 0, 'pie': 8, 'isn': 4, 'rocket': 10, 'science': 11}\n"
     ]
    }
   ],
   "source": [
    "# word count  with count vectorizer\n",
    "from sklearn.feature_extraction.text import CountVectorizer\n",
    "text=[\"It is a piece of cake or it is easy as pie or it isn't rocket science \"]\n",
    "vectorizer=CountVectorizer()\n",
    "vectorizer.fit(text)\n",
    "print(vectorizer.vocabulary_)"
   ]
  },
  {
   "cell_type": "code",
   "execution_count": 11,
   "metadata": {},
   "outputs": [],
   "source": [
    "vector=vectorizer.transform(text)"
   ]
  },
  {
   "cell_type": "code",
   "execution_count": 12,
   "metadata": {},
   "outputs": [
    {
     "name": "stdout",
     "output_type": "stream",
     "text": [
      "(1, 12)\n",
      "<class 'scipy.sparse.csr.csr_matrix'>\n",
      "[[1 1 1 2 1 3 1 2 1 1 1 1]]\n"
     ]
    }
   ],
   "source": [
    "print(vector.shape)\n",
    "print(type(vector))\n",
    "print(vector.toarray())"
   ]
  },
  {
   "cell_type": "code",
   "execution_count": 13,
   "metadata": {},
   "outputs": [],
   "source": [
    "text1=[\" rocket science is very hard \"]\n",
    "vector1=vectorizer.transform(text1)"
   ]
  },
  {
   "cell_type": "code",
   "execution_count": 14,
   "metadata": {},
   "outputs": [
    {
     "name": "stdout",
     "output_type": "stream",
     "text": [
      "[[0 0 0 1 0 0 0 0 0 0 1 1]]\n"
     ]
    }
   ],
   "source": [
    "print(vector1.toarray())"
   ]
  },
  {
   "cell_type": "code",
   "execution_count": 16,
   "metadata": {},
   "outputs": [
    {
     "name": "stdout",
     "output_type": "stream",
     "text": [
      "{'it': 6, 'is': 5, 'piece': 10, 'of': 9, 'cake': 2, 'all': 0, 'lion': 7, 'belong': 1, 'to': 14, 'cat': 3, 'family': 4, 'not': 8, 'rocket': 11, 'science': 12, 'very': 15, 'simple': 13}\n",
      "[1.91629073 1.91629073 1.91629073 1.91629073 1.91629073 1.22314355\n",
      " 1.22314355 1.91629073 1.91629073 1.91629073 1.91629073 1.91629073\n",
      " 1.91629073 1.91629073 1.91629073 1.91629073]\n"
     ]
    }
   ],
   "source": [
    "# word frequencies with tfidf\n",
    "#term frequency\n",
    "#inverse document frequencies\n",
    "from sklearn.feature_extraction.text import TfidfVectorizer\n",
    "text=[\"It is a piece of cake.\",\n",
    "     \"All lion belong to cat family\",\n",
    "     \"It is not a rocket science\",\n",
    "     \" It is very simple \"]\n",
    "vectorizer=TfidfVectorizer()\n",
    "vectorizer.fit(text)\n",
    "print(vectorizer.vocabulary_)\n",
    "print(vectorizer.idf_)"
   ]
  },
  {
   "cell_type": "code",
   "execution_count": 17,
   "metadata": {},
   "outputs": [],
   "source": [
    "#hashing with hashing vectorizer\n",
    "from sklearn.feature_extraction.text import HashingVectorizer\n",
    "vectorizer = HashingVectorizer(n_features=20)\n",
    "# encode document\n",
    "vector = vectorizer.transform(text)"
   ]
  },
  {
   "cell_type": "code",
   "execution_count": 18,
   "metadata": {},
   "outputs": [
    {
     "name": "stdout",
     "output_type": "stream",
     "text": [
      "(4, 20)\n",
      "[[ 0.          0.          0.          0.         -0.4472136   0.\n",
      "   0.          0.         -0.4472136   0.          0.          0.\n",
      "   0.          0.          0.          0.          0.4472136   0.4472136\n",
      "   0.4472136   0.        ]\n",
      " [ 0.          0.          0.          0.          0.          0.31622777\n",
      "   0.          0.          0.          0.          0.          0.63245553\n",
      "   0.31622777  0.          0.          0.          0.          0.\n",
      "   0.          0.63245553]\n",
      " [ 0.          0.          0.          0.          0.          0.\n",
      "   0.          0.4472136   0.4472136   0.          0.          0.\n",
      "   0.         -0.4472136   0.          0.          0.          0.4472136\n",
      "   0.4472136   0.        ]\n",
      " [ 0.          0.          0.          0.          0.          0.\n",
      "  -0.5         0.          0.          0.          0.         -0.5\n",
      "   0.          0.          0.          0.          0.          0.5\n",
      "   0.5         0.        ]]\n"
     ]
    }
   ],
   "source": [
    "print(vector.shape)\n",
    "print(vector.toarray())"
   ]
  },
  {
   "cell_type": "code",
   "execution_count": null,
   "metadata": {},
   "outputs": [],
   "source": []
  }
 ],
 "metadata": {
  "kernelspec": {
   "display_name": "Python 3",
   "language": "python",
   "name": "python3"
  },
  "language_info": {
   "codemirror_mode": {
    "name": "ipython",
    "version": 3
   },
   "file_extension": ".py",
   "mimetype": "text/x-python",
   "name": "python",
   "nbconvert_exporter": "python",
   "pygments_lexer": "ipython3",
   "version": "3.7.6"
  }
 },
 "nbformat": 4,
 "nbformat_minor": 2
}
