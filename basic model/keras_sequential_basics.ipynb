{
 "cells": [
  {
   "cell_type": "code",
   "execution_count": 16,
   "metadata": {},
   "outputs": [],
   "source": [
    "# import some basic functionality of keras which is required for neutal network\n",
    "from tensorflow import keras\n",
    "# dense and activation are layers\n",
    "from keras.layers import Dense, Activation\n",
    "# sequenrial model is similar MLP which take input from previos layer\n",
    "# It add layers similar to stack\n",
    "from keras.models import Sequential\n",
    "# It is an optimizer which update your weight in training process\n",
    "from keras.optimizers import SGD\n",
    "#accuracy matrix\n",
    "from keras import metrics"
   ]
  },
  {
   "cell_type": "code",
   "execution_count": 17,
   "metadata": {},
   "outputs": [],
   "source": [
    "model= Sequential()\n",
    "model.add(Dense(5,input_dim=2))\n",
    "model.add(Activation(\"relu\"))\n",
    "model.add(Dense(1))\n",
    "model.add(Activation('sigmoid'))"
   ]
  },
  {
   "cell_type": "markdown",
   "metadata": {},
   "source": [
    "input_dim=(1,2)\n",
    "\n",
    "weight_metrix_1_dim=(2,5)\n",
    "\n",
    "bias_vec_dim=(1,5)\n",
    "\n",
    "output_hidden_dim= (input_dim * weight_metrix_1_dim ) +        bias_vec_dim\n",
    "\n",
    "output_hiddeen_dim=(1,5)\n",
    "\n",
    "weight_metrix_2_dim=(5,1)\n",
    "\n",
    "bias_vec_2_dim=(1,1)\n",
    "\n",
    "output_dim_2=(output_hidden_dim * weight_matrix_2_dim ) + bias_vec_2_dim\n",
    "\n",
    "output_dim_2=(1,1)"
   ]
  },
  {
   "cell_type": "code",
   "execution_count": 18,
   "metadata": {},
   "outputs": [],
   "source": [
    "optimizer= SGD(lr=0.1, momentum=0.3)\n",
    "model.compile(optimizer=optimizer, loss=\"mean_squared_error\", metrics=[\"accuracy\"])"
   ]
  },
  {
   "cell_type": "code",
   "execution_count": null,
   "metadata": {},
   "outputs": [],
   "source": [
    "# training of neural network\n",
    "history=model.fit(x,y, batch_size=10, epochs=100)"
   ]
  },
  {
   "cell_type": "code",
   "execution_count": null,
   "metadata": {},
   "outputs": [],
   "source": [
    "#evaluating data\n",
    "loss, accutacy=model.evaluate(test_x, test_y)"
   ]
  },
  {
   "cell_type": "code",
   "execution_count": null,
   "metadata": {},
   "outputs": [],
   "source": [
    "#predicting model\n",
    "predsictions=model.predict(x)"
   ]
  }
 ],
 "metadata": {
  "kernelspec": {
   "display_name": "Python 3",
   "language": "python",
   "name": "python3"
  },
  "language_info": {
   "codemirror_mode": {
    "name": "ipython",
    "version": 3
   },
   "file_extension": ".py",
   "mimetype": "text/x-python",
   "name": "python",
   "nbconvert_exporter": "python",
   "pygments_lexer": "ipython3",
   "version": "3.7.6"
  }
 },
 "nbformat": 4,
 "nbformat_minor": 2
}
